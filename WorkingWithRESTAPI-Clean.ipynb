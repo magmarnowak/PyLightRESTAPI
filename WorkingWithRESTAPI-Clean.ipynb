{
 "cells": [
  {
   "cell_type": "markdown",
   "metadata": {
    "slideshow": {
     "slide_type": "slide"
    }
   },
   "source": [
    "# Working With REST APIs Using Requests Library\n",
    "\n",
    "# a.k.a.\n",
    "\n",
    "# Everything is Better Explained with Cats"
   ]
  },
  {
   "cell_type": "markdown",
   "metadata": {
    "slideshow": {
     "slide_type": "subslide"
    }
   },
   "source": [
    "![PyLadies](images/pyladies.png) "
   ]
  },
  {
   "cell_type": "markdown",
   "metadata": {
    "slideshow": {
     "slide_type": "fragment"
    }
   },
   "source": [
    "![FSEC](images/logo.png)"
   ]
  },
  {
   "cell_type": "markdown",
   "metadata": {
    "slideshow": {
     "slide_type": "fragment"
    }
   },
   "source": [
    "![GH](images/GH.png) https://github.com/magmarnowak/AboutMe\n",
    "\n",
    "https://github.com/magmarnowak/PyLightRESTAPI"
   ]
  },
  {
   "cell_type": "markdown",
   "metadata": {
    "slideshow": {
     "slide_type": "slide"
    }
   },
   "source": [
    "# Co to jest API?"
   ]
  },
  {
   "cell_type": "markdown",
   "metadata": {
    "slideshow": {
     "slide_type": "fragment"
    }
   },
   "source": [
    "> **Application Programming Interface**\n",
    "\n",
    "> Część aplikacji, która pozwala na komunikację i integrację z innymi aplikacjami. W praktyce, w przypadku aplikacji webowych, oznacza to najczęściej zestaw dostępnych w aplikacji adresów URL, które zwracają określone dane, w wybranym formacie, np. JSON czy XML.\n",
    "\n",
    "[What is an API, in English please](https://medium.freecodecamp.org/what-is-an-api-in-english-please-b880a3214a82)"
   ]
  },
  {
   "cell_type": "markdown",
   "metadata": {
    "slideshow": {
     "slide_type": "slide"
    }
   },
   "source": [
    "# Co to jest REST?"
   ]
  },
  {
   "cell_type": "markdown",
   "metadata": {
    "collapsed": true,
    "slideshow": {
     "slide_type": "fragment"
    }
   },
   "source": [
    "> **Representational State Transfer**\n",
    "\n",
    "> Standard architektury sieciowej opisujący dobre praktyki dotyczące operowania zapytaniami do API. W aplikacjach\n",
    "webowych REST implementowany jest w oparciu o odpowiednio sformułowane adresy URL i przypisane im metody protokołu HTTP.\n",
    "\n",
    "[Wprowadzenie do architektury: REST](http://www.moseleians.co.uk/wp-content/uploads/cmdm/9632/1422444257_api-restowe-whitepaper.pdf)"
   ]
  },
  {
   "cell_type": "markdown",
   "metadata": {
    "slideshow": {
     "slide_type": "slide"
    }
   },
   "source": [
    "# Biblioteka requests\n",
    "\n",
    "![requests](images/requests.png)\n",
    "\n",
    "[http://docs.python-requests.org](http://docs.python-requests.org/en/master/#)"
   ]
  },
  {
   "cell_type": "markdown",
   "metadata": {
    "slideshow": {
     "slide_type": "subslide"
    }
   },
   "source": [
    "## Instalacja\n",
    "```bash\n",
    "pip install requests\n",
    "```"
   ]
  },
  {
   "cell_type": "markdown",
   "metadata": {
    "slideshow": {
     "slide_type": "subslide"
    }
   },
   "source": [
    "## Zapytania HTTP\n",
    "```python\n",
    "# GET\n",
    "r = requests.get('https://api.github.com/events')\n",
    "# GET with URL parameters\n",
    "r = requests.get(\n",
    "    'http://httpbin.org/get', \n",
    "    params={'key1': 'value1', 'key2': ['value2', 'value3']}\n",
    ")\n",
    "```"
   ]
  },
  {
   "cell_type": "markdown",
   "metadata": {
    "slideshow": {
     "slide_type": "fragment"
    }
   },
   "source": [
    "### Query String\n",
    "![Query Params](images/url_query.png)"
   ]
  },
  {
   "cell_type": "markdown",
   "metadata": {
    "slideshow": {
     "slide_type": "skip"
    }
   },
   "source": [
    "```python\n",
    "# POST\n",
    "r = requests.post('http://httpbin.org/post', data = {'key': 'value'})\n",
    "# PUT\n",
    "r = requests.put('http://httpbin.org/put', data = {'key': 'value'})\n",
    "# DELETE\n",
    "r = requests.delete('http://httpbin.org/delete')\n",
    "# HEAD\n",
    "r = requests.head('http://httpbin.org/get')\n",
    "# OPTIONS\n",
    "r = requests.options('http://httpbin.org/get')\n",
    "```"
   ]
  },
  {
   "cell_type": "markdown",
   "metadata": {
    "slideshow": {
     "slide_type": "subslide"
    }
   },
   "source": [
    "## Odpowiedzi HTTP\n",
    "\n",
    "```python\n",
    "# sprawdź wygenerowany url\n",
    "r.url\n",
    "# sprawdź kod statusu odpowiedzi\n",
    "r.status_code\n",
    "# odczytaj tekst odpowiedzi\n",
    "r.text\n",
    "# odczytaj zawartość odpowiedzi w formacie binarnym\n",
    "r.content\n",
    "# odczytaj zawartość odpowiedzi w formacie json\n",
    "r.json()\n",
    "# odczytaj surowy format odpowiedzi\n",
    "r.raw\n",
    "```\n",
    "[requests library docs](http://docs.python-requests.org/en/master/)"
   ]
  },
  {
   "cell_type": "markdown",
   "metadata": {
    "slideshow": {
     "slide_type": "slide"
    }
   },
   "source": [
    "# Praca z CatAPI\n",
    "\n",
    "![main](images/cat_API.png)\n",
    "http://thecatapi.com/"
   ]
  },
  {
   "cell_type": "markdown",
   "metadata": {
    "slideshow": {
     "slide_type": "subslide"
    }
   },
   "source": [
    "![Cat API docs](images/catAPI_doc.png)\n",
    "\n",
    "http://thecatapi.com/api/images/get?format=xml&results_per_page=20"
   ]
  },
  {
   "cell_type": "code",
   "execution_count": null,
   "metadata": {
    "collapsed": true,
    "slideshow": {
     "slide_type": "subslide"
    }
   },
   "outputs": [],
   "source": [
    "import requests"
   ]
  },
  {
   "cell_type": "code",
   "execution_count": null,
   "metadata": {
    "collapsed": true,
    "slideshow": {
     "slide_type": "fragment"
    }
   },
   "outputs": [],
   "source": [
    "endpoint = 'http://thecatapi.com/api/images/get'"
   ]
  },
  {
   "cell_type": "code",
   "execution_count": null,
   "metadata": {
    "collapsed": true,
    "slideshow": {
     "slide_type": "fragment"
    }
   },
   "outputs": [],
   "source": [
    "# get a random cat image\n",
    "r = requests.get(endpoint, params = {'size': 'small', 'type': 'png'})"
   ]
  },
  {
   "cell_type": "code",
   "execution_count": null,
   "metadata": {
    "collapsed": true,
    "slideshow": {
     "slide_type": "fragment"
    }
   },
   "outputs": [],
   "source": [
    "# check the response status code\n",
    "print(r.status_code)"
   ]
  },
  {
   "cell_type": "code",
   "execution_count": null,
   "metadata": {
    "collapsed": true,
    "slideshow": {
     "slide_type": "fragment"
    }
   },
   "outputs": [],
   "source": [
    "# check generated url\n",
    "print(r.url)"
   ]
  },
  {
   "cell_type": "code",
   "execution_count": null,
   "metadata": {
    "collapsed": true,
    "scrolled": false,
    "slideshow": {
     "slide_type": "fragment"
    }
   },
   "outputs": [],
   "source": [
    "# read its contents\n",
    "img = r.content"
   ]
  },
  {
   "cell_type": "code",
   "execution_count": null,
   "metadata": {
    "collapsed": true,
    "slideshow": {
     "slide_type": "fragment"
    }
   },
   "outputs": [],
   "source": [
    "# display the image\n",
    "from IPython.display import Image\n",
    "Image(data=img)"
   ]
  },
  {
   "cell_type": "code",
   "execution_count": null,
   "metadata": {
    "collapsed": true,
    "slideshow": {
     "slide_type": "fragment"
    }
   },
   "outputs": [],
   "source": [
    "# save the contents of the response into a file (ake sure you have the 'cat_images' folder created in the notebook directory)\n",
    "with open('cat_images/cat.png', 'wb') as f:\n",
    "    f.write(img)"
   ]
  },
  {
   "cell_type": "markdown",
   "metadata": {
    "slideshow": {
     "slide_type": "slide"
    }
   },
   "source": [
    "# Co to jest JSON?"
   ]
  },
  {
   "cell_type": "markdown",
   "metadata": {
    "slideshow": {
     "slide_type": "fragment"
    }
   },
   "source": [
    "```javascript\n",
    "{\n",
    "    \"_id\": \"5a15a34d4294014fda126bcd\",\n",
    "    \"picture\": \"http://placehold.it/32x32\",\n",
    "    \"age\": 24,\n",
    "    \"eyeColor\": \"green\",\n",
    "    \"name\": \"Kane Boone\",\n",
    "    \"favoriteFruits\": [\"strawberry\", \"banana\", \"pineapple\"]\n",
    "  }\n",
    "  ```\n",
    "  https://www.json-generator.com/"
   ]
  },
  {
   "cell_type": "markdown",
   "metadata": {
    "slideshow": {
     "slide_type": "fragment"
    }
   },
   "source": [
    "> **JavaScript Object Notation**\n",
    "\n",
    "> Fomat zapisu danych, powszechnie wykorzystywany do transferu danych przez REST API. Chociaż powierzchownie JSON przypomina Pythonowy słownik, pierwszy jest jedynie *formatem reprezentacji* danych, natomiast drugi jest *typem danych*."
   ]
  },
  {
   "cell_type": "markdown",
   "metadata": {
    "slideshow": {
     "slide_type": "subslide"
    }
   },
   "source": [
    "## Python vs JSON\n",
    "\n",
    "![Pyhton vs JSON](images/python_json.png)\n",
    "\n",
    "https://docs.python.org/3/library/json.html"
   ]
  },
  {
   "cell_type": "markdown",
   "metadata": {
    "slideshow": {
     "slide_type": "skip"
    }
   },
   "source": [
    "## Metody biblioteki json\n",
    "\n",
    "> [Bibliotekę json](https://docs.python.org/3/library/json.html) w Pythonie wykorzystujemy do konwersji między danymi zapisanymi w formacie JSON, a typami danych w Pythonie.\n",
    "\n",
    "```python\n",
    "# przekonwertuj typ Pythonowy na string w formacie JSON\n",
    "json.dumps({\"foo\": \"bar\"})\n",
    "# przekonwertuj string w formacie JSON na typ Pythonowy\n",
    "json.loads('{\"foo\": \"bar\"}')\n",
    "# przekonwertuj typ Pythonowy na string w formacie JSON i zapisz do pliku\n",
    "json.dump({\"foo\": \"bar\"})\n",
    "# przekonwertuj string w formacie JSON na typ Pythonowy i zapisz do pliku\n",
    "json.load('{\"foo\": \"bar\"}')\n",
    "```\n",
    "\n",
    "[Using the Python json library](https://christophergs.github.io/python/2016/11/27/python-json/)"
   ]
  },
  {
   "cell_type": "markdown",
   "metadata": {
    "slideshow": {
     "slide_type": "skip"
    }
   },
   "source": [
    "## JSON Formatter\n",
    "[JSON Formatter Chrome Extention](https://chrome.google.com/webstore/detail/json-formatter/bcjindcccaagfpapjjmafapmmgkkhgoa)"
   ]
  },
  {
   "cell_type": "markdown",
   "metadata": {
    "slideshow": {
     "slide_type": "subslide"
    }
   },
   "source": [
    "# Praca z Marvel Comics API\n",
    "\n",
    "![Marvel Comics API](images/Marvel.png)\n",
    "\n",
    "[https://developer.marvel.com/](https://developer.marvel.com/)"
   ]
  },
  {
   "cell_type": "markdown",
   "metadata": {
    "slideshow": {
     "slide_type": "skip"
    }
   },
   "source": [
    "![Marvel Getting Started](images/MarvelGettingStarted.png)\n",
    "\n",
    "[https://developer.marvel.com/documentation/getting_started](https://developer.marvel.com/documentation/getting_started)"
   ]
  },
  {
   "cell_type": "markdown",
   "metadata": {
    "slideshow": {
     "slide_type": "skip"
    }
   },
   "source": [
    "![General Info](images/MarvelGeneral.png)\n",
    "\n",
    "[https://developer.marvel.com/documentation/generalinfo](https://developer.marvel.com/documentation/generalinfo)"
   ]
  },
  {
   "cell_type": "markdown",
   "metadata": {
    "slideshow": {
     "slide_type": "skip"
    }
   },
   "source": [
    "## Uwierzytelnianie z API key\n",
    "![Marvel Get a Key](images/Marvel_key.png)\n",
    "https://developer.marvel.com/"
   ]
  },
  {
   "cell_type": "markdown",
   "metadata": {
    "slideshow": {
     "slide_type": "skip"
    }
   },
   "source": [
    "![Marvel Auth 1](images/Marvel_auth_1.png)\n",
    "[https://developer.marvel.com/documentation/authorization](https://developer.marvel.com/documentation/authorization)"
   ]
  },
  {
   "cell_type": "markdown",
   "metadata": {
    "slideshow": {
     "slide_type": "skip"
    }
   },
   "source": [
    "![Marvel Auth 2](images/Marvel_auth_2.png)\n",
    "\n",
    "[https://developer.marvel.com/documentation/authorization](https://developer.marvel.com/documentation/authorization)"
   ]
  },
  {
   "cell_type": "markdown",
   "metadata": {
    "slideshow": {
     "slide_type": "subslide"
    }
   },
   "source": [
    "![Interactive Documentation](images/MarvelTester.png)\n",
    "\n",
    "[https://developer.marvel.com/docs](https://developer.marvel.com/docs)"
   ]
  },
  {
   "cell_type": "markdown",
   "metadata": {
    "slideshow": {
     "slide_type": "subslide"
    }
   },
   "source": [
    "![Marvel Test 1](images/Marvel_test_1.png)"
   ]
  },
  {
   "cell_type": "markdown",
   "metadata": {
    "slideshow": {
     "slide_type": "subslide"
    }
   },
   "source": [
    "![Marvel Test 2](images/Marvel_test_2.png)"
   ]
  },
  {
   "cell_type": "markdown",
   "metadata": {
    "slideshow": {
     "slide_type": "subslide"
    }
   },
   "source": [
    "![Marvel Test 3](images/Marvel_test_3.png)"
   ]
  },
  {
   "cell_type": "markdown",
   "metadata": {
    "slideshow": {
     "slide_type": "subslide"
    }
   },
   "source": [
    "![Marvel Test 4](images/Marvel_test_4.png)"
   ]
  },
  {
   "cell_type": "code",
   "execution_count": null,
   "metadata": {
    "collapsed": true,
    "slideshow": {
     "slide_type": "subslide"
    }
   },
   "outputs": [],
   "source": [
    "import requests"
   ]
  },
  {
   "cell_type": "code",
   "execution_count": null,
   "metadata": {
    "collapsed": true,
    "slideshow": {
     "slide_type": "fragment"
    }
   },
   "outputs": [],
   "source": [
    "endpoint = 'https://gateway.marvel.com'"
   ]
  },
  {
   "cell_type": "code",
   "execution_count": null,
   "metadata": {
    "collapsed": true,
    "slideshow": {
     "slide_type": "fragment"
    }
   },
   "outputs": [],
   "source": [
    "# for info on how to authorise yourself see: https://developer.marvel.com/documentation/authorization\n",
    "apikey_pub = 'enter_your_public_API_key_here'\n",
    "apikey_priv = 'enter_your_private_API_key_here'\n",
    "timestamp = '1'"
   ]
  },
  {
   "cell_type": "code",
   "execution_count": null,
   "metadata": {
    "collapsed": true,
    "slideshow": {
     "slide_type": "fragment"
    }
   },
   "outputs": [],
   "source": [
    "# generate a hash - md5(ts+privateKey+publicKey)\n",
    "# source: https://stackoverflow.com/questions/5297448/how-to-get-md5-sum-of-a-string-using-python\n",
    "import hashlib\n",
    "m = hashlib.md5((timestamp + apikey_priv + apikey_pub).encode('utf-8'))\n",
    "hash_key = m.hexdigest()"
   ]
  },
  {
   "cell_type": "code",
   "execution_count": null,
   "metadata": {
    "collapsed": true,
    "slideshow": {
     "slide_type": "fragment"
    }
   },
   "outputs": [],
   "source": [
    "# get all character data\n",
    "r = requests.get(endpoint + '/v1/public/characters', params = {'apikey': apikey_pub, 'hash': hash_key, 'ts': timestamp, 'name': 'Black Panther'})"
   ]
  },
  {
   "cell_type": "code",
   "execution_count": null,
   "metadata": {
    "collapsed": true,
    "slideshow": {
     "slide_type": "fragment"
    }
   },
   "outputs": [],
   "source": [
    "# check the generate url\n",
    "print(r.url)"
   ]
  },
  {
   "cell_type": "code",
   "execution_count": null,
   "metadata": {
    "collapsed": true,
    "slideshow": {
     "slide_type": "fragment"
    }
   },
   "outputs": [],
   "source": [
    "# check response status code\n",
    "print(r.status_code)"
   ]
  },
  {
   "cell_type": "code",
   "execution_count": null,
   "metadata": {
    "collapsed": true,
    "slideshow": {
     "slide_type": "subslide"
    }
   },
   "outputs": [],
   "source": [
    "# decode the response content from JSON format\n",
    "character = r.json()\n",
    "\n",
    "from pprint import pprint as pp\n",
    "pp(character)"
   ]
  },
  {
   "cell_type": "markdown",
   "metadata": {
    "slideshow": {
     "slide_type": "subslide"
    }
   },
   "source": [
    "![Marvel Resp](images/Marvel_auth_resp.png)"
   ]
  },
  {
   "cell_type": "markdown",
   "metadata": {
    "slideshow": {
     "slide_type": "subslide"
    }
   },
   "source": [
    "![Marvel Resp](images/Marvel_auth_resp_2.png)"
   ]
  },
  {
   "cell_type": "code",
   "execution_count": null,
   "metadata": {
    "collapsed": true,
    "slideshow": {
     "slide_type": "subslide"
    }
   },
   "outputs": [],
   "source": [
    "events = character[\"data\"][\"results\"][0][\"events\"][\"items\"]\n",
    "pp(events)"
   ]
  },
  {
   "cell_type": "markdown",
   "metadata": {
    "slideshow": {
     "slide_type": "slide"
    }
   },
   "source": [
    "# Dlaczego to jest ważne?\n",
    "- no SQL needed\n",
    "- API to podstawowy sposób, w który komunikują się współczesne aplikacje i ich komponenty\n",
    "- tworzenie API stało się powszechnym elementem rozwoju aplikacji\n",
    "- warto rozwinąć umiejętność pisania dobrej dokumentacji dla API"
   ]
  },
  {
   "cell_type": "markdown",
   "metadata": {
    "slideshow": {
     "slide_type": "slide"
    }
   },
   "source": [
    "# Co dalej?\n",
    "[CatAPI](http://thecatapi.com/docs.html)\n",
    "\n",
    "[SWAPI](https://swapi.co/)\n",
    "\n",
    "[Marvel Comics API](https://developer.marvel.com/)\n",
    "\n",
    "[Board Game Geek API](https://boardgamegeek.com/wiki/page/BGG_XML_API2) (XML) + [JSON wprapper](https://github.com/ervwalter/bgg-json) \n",
    "\n",
    "[NewYorkTimes API](https://developer.nytimes.com/)\n",
    "\n",
    "[GDAX API](https://docs.gdax.com/)"
   ]
  },
  {
   "cell_type": "markdown",
   "metadata": {
    "slideshow": {
     "slide_type": "slide"
    }
   },
   "source": [
    "## Extras\n",
    "Proste objaśnienia jak działa magia internetu\n",
    "\n",
    "[DjangoGirls Tutorial: How the internet works](https://tutorial.djangogirls.org/pl/how_the_internet_works/)\n",
    "\n",
    "[Non-techie's guide to servers](https://hackernoon.com/the-non-techies-guide-to-servers-af1fa3dbf7d8)\n"
   ]
  },
  {
   "cell_type": "markdown",
   "metadata": {
    "slideshow": {
     "slide_type": "slide"
    }
   },
   "source": [
    "![q&a](images/Q&A.jpg)"
   ]
  },
  {
   "cell_type": "markdown",
   "metadata": {
    "slideshow": {
     "slide_type": "slide"
    }
   },
   "source": [
    "# Stay in touch\n",
    "\n",
    "![GH](images/GH.png) https://github.com/magmarnowak/AboutMe\n",
    "\n",
    "https://github.com/magmarnowak/PyLightRESTAPI\n",
    "![email](images/email.png) magmarnowak@gmail.com"
   ]
  }
 ],
 "metadata": {
  "celltoolbar": "Slideshow",
  "kernelspec": {
   "display_name": "Python 3",
   "language": "python",
   "name": "python3"
  },
  "language_info": {
   "codemirror_mode": {
    "name": "ipython",
    "version": 3
   },
   "file_extension": ".py",
   "mimetype": "text/x-python",
   "name": "python",
   "nbconvert_exporter": "python",
   "pygments_lexer": "ipython3",
   "version": "3.6.1"
  }
 },
 "nbformat": 4,
 "nbformat_minor": 2
}
